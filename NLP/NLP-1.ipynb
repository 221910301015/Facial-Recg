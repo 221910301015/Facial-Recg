{
 "cells": [
  {
   "cell_type": "code",
   "execution_count": 1,
   "metadata": {},
   "outputs": [],
   "source": [
    "import os\n",
    "import nltk\n",
    "import nltk.corpus"
   ]
  },
  {
   "cell_type": "code",
   "execution_count": 2,
   "metadata": {},
   "outputs": [
    {
     "name": "stdout",
     "output_type": "stream",
     "text": [
      "['abc', 'abc.zip', 'alpino', 'alpino.zip', 'biocreative_ppi', 'biocreative_ppi.zip', 'brown', 'brown.zip', 'brown_tei', 'brown_tei.zip', 'cess_cat', 'cess_cat.zip', 'cess_esp', 'cess_esp.zip', 'chat80', 'chat80.zip', 'city_database', 'city_database.zip', 'cmudict', 'cmudict.zip', 'comparative_sentences', 'comparative_sentences.zip', 'comtrans.zip', 'conll2000', 'conll2000.zip', 'conll2002', 'conll2002.zip', 'conll2007.zip', 'crubadan', 'crubadan.zip', 'dependency_treebank', 'dependency_treebank.zip', 'dolch', 'dolch.zip', 'europarl_raw', 'europarl_raw.zip', 'floresta', 'floresta.zip', 'framenet_v15', 'framenet_v15.zip', 'framenet_v17', 'framenet_v17.zip', 'gazetteers', 'gazetteers.zip', 'genesis', 'genesis.zip', 'gutenberg', 'gutenberg.zip', 'ieer', 'ieer.zip', 'inaugural', 'inaugural.zip', 'indian', 'indian.zip', 'jeita.zip', 'kimmo', 'kimmo.zip', 'knbc.zip', 'lin_thesaurus', 'lin_thesaurus.zip', 'machado.zip', 'mac_morpho', 'mac_morpho.zip', 'masc_tagged.zip', 'movie_reviews', 'movie_reviews.zip', 'mte_teip5', 'mte_teip5.zip', 'names', 'names.zip', 'nombank.1.0.zip', 'nonbreaking_prefixes', 'nonbreaking_prefixes.zip', 'nps_chat', 'nps_chat.zip', 'omw', 'omw.zip', 'opinion_lexicon', 'opinion_lexicon.zip', 'panlex_swadesh.zip', 'paradigms', 'paradigms.zip', 'pil', 'pil.zip', 'pl196x', 'pl196x.zip', 'ppattach', 'ppattach.zip', 'problem_reports', 'problem_reports.zip', 'product_reviews_1', 'product_reviews_1.zip', 'product_reviews_2', 'product_reviews_2.zip', 'propbank.zip', 'pros_cons', 'pros_cons.zip', 'ptb', 'ptb.zip', 'qc', 'qc.zip', 'reuters.zip', 'rte', 'rte.zip', 'semcor.zip', 'senseval', 'senseval.zip', 'sentence_polarity', 'sentence_polarity.zip', 'sentiwordnet', 'sentiwordnet.zip', 'shakespeare', 'shakespeare.zip', 'sinica_treebank', 'sinica_treebank.zip', 'smultron', 'smultron.zip', 'state_union', 'state_union.zip', 'stopwords', 'stopwords.zip', 'subjectivity', 'subjectivity.zip', 'swadesh', 'swadesh.zip', 'switchboard', 'switchboard.zip', 'timit', 'timit.zip', 'toolbox', 'toolbox.zip', 'treebank', 'treebank.zip', 'twitter_samples', 'twitter_samples.zip', 'udhr', 'udhr.zip', 'udhr2', 'udhr2.zip', 'unicode_samples', 'unicode_samples.zip', 'universal_treebanks_v20.zip', 'verbnet', 'verbnet.zip', 'verbnet3', 'verbnet3.zip', 'webtext', 'webtext.zip', 'wordnet', 'wordnet.zip', 'wordnet_ic', 'wordnet_ic.zip', 'words', 'words.zip', 'ycoe', 'ycoe.zip']\n"
     ]
    }
   ],
   "source": [
    "print(os.listdir(nltk.data.find(\"corpora\")))"
   ]
  },
  {
   "cell_type": "code",
   "execution_count": 7,
   "metadata": {},
   "outputs": [
    {
     "data": {
      "text/plain": [
       "['PM', 'denies', 'knowledge', 'of', 'AWB', 'kickbacks', ...]"
      ]
     },
     "execution_count": 7,
     "metadata": {},
     "output_type": "execute_result"
    }
   ],
   "source": [
    "from nltk.corpus import abc\n",
    "abc.words()"
   ]
  },
  {
   "cell_type": "code",
   "execution_count": 11,
   "metadata": {},
   "outputs": [
    {
     "data": {
      "text/plain": [
       "['austen-emma.txt',\n",
       " 'austen-persuasion.txt',\n",
       " 'austen-sense.txt',\n",
       " 'bible-kjv.txt',\n",
       " 'blake-poems.txt',\n",
       " 'bryant-stories.txt',\n",
       " 'burgess-busterbrown.txt',\n",
       " 'carroll-alice.txt',\n",
       " 'chesterton-ball.txt',\n",
       " 'chesterton-brown.txt',\n",
       " 'chesterton-thursday.txt',\n",
       " 'edgeworth-parents.txt',\n",
       " 'melville-moby_dick.txt',\n",
       " 'milton-paradise.txt',\n",
       " 'shakespeare-caesar.txt',\n",
       " 'shakespeare-hamlet.txt',\n",
       " 'shakespeare-macbeth.txt',\n",
       " 'whitman-leaves.txt']"
      ]
     },
     "execution_count": 11,
     "metadata": {},
     "output_type": "execute_result"
    }
   ],
   "source": [
    "nltk.corpus.gutenberg.fileids() #fileids-list of files makes up corpus"
   ]
  },
  {
   "cell_type": "code",
   "execution_count": 17,
   "metadata": {},
   "outputs": [],
   "source": [
    "CV=\"\"\"Computer vision is a field of artificial intelligence (AI) that enables computers and systems to derive meaningful information from digital images, videos and other visual inputs — and take actions or make recommendations based on that information. If AI enables computers to think, computer vision enables them to see, observe and understand.Computer vision works much the same as human vision, except humans have a head start. Human sight has the advantage of lifetimes of context to train how to tell objects apart, how far away they are, whether they are moving and whether there is something wrong in an image.\n",
    "Computer vision trains machines to perform these functions, but it has to do it in much less time with cameras, data and algorithms rather than retinas, optic nerves and a visual cortex. Because a system trained to inspect products or watch a production asset can analyze thousands of products or processes a minute, noticing imperceptible defects or issues, it can quickly surpass human capabilities.\n",
    "Computer vision is used in industries ranging from energy and utilities to manufacturing and automotive – and the market is continuing to grow. It is expected to reach USD 48.6 billion by 2022\"\"\""
   ]
  },
  {
   "cell_type": "code",
   "execution_count": 20,
   "metadata": {},
   "outputs": [
    {
     "data": {
      "text/plain": [
       "str"
      ]
     },
     "execution_count": 20,
     "metadata": {},
     "output_type": "execute_result"
    }
   ],
   "source": [
    "type(CV)"
   ]
  },
  {
   "cell_type": "code",
   "execution_count": 21,
   "metadata": {},
   "outputs": [],
   "source": [
    "from nltk.tokenize import word_tokenize"
   ]
  },
  {
   "cell_type": "code",
   "execution_count": 24,
   "metadata": {},
   "outputs": [
    {
     "data": {
      "text/plain": [
       "['Computer',\n",
       " 'vision',\n",
       " 'is',\n",
       " 'a',\n",
       " 'field',\n",
       " 'of',\n",
       " 'artificial',\n",
       " 'intelligence',\n",
       " '(',\n",
       " 'AI',\n",
       " ')',\n",
       " 'that',\n",
       " 'enables',\n",
       " 'computers',\n",
       " 'and',\n",
       " 'systems',\n",
       " 'to',\n",
       " 'derive',\n",
       " 'meaningful',\n",
       " 'information',\n",
       " 'from',\n",
       " 'digital',\n",
       " 'images',\n",
       " ',',\n",
       " 'videos',\n",
       " 'and',\n",
       " 'other',\n",
       " 'visual',\n",
       " 'inputs',\n",
       " '—',\n",
       " 'and',\n",
       " 'take',\n",
       " 'actions',\n",
       " 'or',\n",
       " 'make',\n",
       " 'recommendations',\n",
       " 'based',\n",
       " 'on',\n",
       " 'that',\n",
       " 'information',\n",
       " '.',\n",
       " 'If',\n",
       " 'AI',\n",
       " 'enables',\n",
       " 'computers',\n",
       " 'to',\n",
       " 'think',\n",
       " ',',\n",
       " 'computer',\n",
       " 'vision',\n",
       " 'enables',\n",
       " 'them',\n",
       " 'to',\n",
       " 'see',\n",
       " ',',\n",
       " 'observe',\n",
       " 'and',\n",
       " 'understand.Computer',\n",
       " 'vision',\n",
       " 'works',\n",
       " 'much',\n",
       " 'the',\n",
       " 'same',\n",
       " 'as',\n",
       " 'human',\n",
       " 'vision',\n",
       " ',',\n",
       " 'except',\n",
       " 'humans',\n",
       " 'have',\n",
       " 'a',\n",
       " 'head',\n",
       " 'start',\n",
       " '.',\n",
       " 'Human',\n",
       " 'sight',\n",
       " 'has',\n",
       " 'the',\n",
       " 'advantage',\n",
       " 'of',\n",
       " 'lifetimes',\n",
       " 'of',\n",
       " 'context',\n",
       " 'to',\n",
       " 'train',\n",
       " 'how',\n",
       " 'to',\n",
       " 'tell',\n",
       " 'objects',\n",
       " 'apart',\n",
       " ',',\n",
       " 'how',\n",
       " 'far',\n",
       " 'away',\n",
       " 'they',\n",
       " 'are',\n",
       " ',',\n",
       " 'whether',\n",
       " 'they',\n",
       " 'are',\n",
       " 'moving',\n",
       " 'and',\n",
       " 'whether',\n",
       " 'there',\n",
       " 'is',\n",
       " 'something',\n",
       " 'wrong',\n",
       " 'in',\n",
       " 'an',\n",
       " 'image',\n",
       " '.',\n",
       " 'Computer',\n",
       " 'vision',\n",
       " 'trains',\n",
       " 'machines',\n",
       " 'to',\n",
       " 'perform',\n",
       " 'these',\n",
       " 'functions',\n",
       " ',',\n",
       " 'but',\n",
       " 'it',\n",
       " 'has',\n",
       " 'to',\n",
       " 'do',\n",
       " 'it',\n",
       " 'in',\n",
       " 'much',\n",
       " 'less',\n",
       " 'time',\n",
       " 'with',\n",
       " 'cameras',\n",
       " ',',\n",
       " 'data',\n",
       " 'and',\n",
       " 'algorithms',\n",
       " 'rather',\n",
       " 'than',\n",
       " 'retinas',\n",
       " ',',\n",
       " 'optic',\n",
       " 'nerves',\n",
       " 'and',\n",
       " 'a',\n",
       " 'visual',\n",
       " 'cortex',\n",
       " '.',\n",
       " 'Because',\n",
       " 'a',\n",
       " 'system',\n",
       " 'trained',\n",
       " 'to',\n",
       " 'inspect',\n",
       " 'products',\n",
       " 'or',\n",
       " 'watch',\n",
       " 'a',\n",
       " 'production',\n",
       " 'asset',\n",
       " 'can',\n",
       " 'analyze',\n",
       " 'thousands',\n",
       " 'of',\n",
       " 'products',\n",
       " 'or',\n",
       " 'processes',\n",
       " 'a',\n",
       " 'minute',\n",
       " ',',\n",
       " 'noticing',\n",
       " 'imperceptible',\n",
       " 'defects',\n",
       " 'or',\n",
       " 'issues',\n",
       " ',',\n",
       " 'it',\n",
       " 'can',\n",
       " 'quickly',\n",
       " 'surpass',\n",
       " 'human',\n",
       " 'capabilities',\n",
       " '.',\n",
       " 'Computer',\n",
       " 'vision',\n",
       " 'is',\n",
       " 'used',\n",
       " 'in',\n",
       " 'industries',\n",
       " 'ranging',\n",
       " 'from',\n",
       " 'energy',\n",
       " 'and',\n",
       " 'utilities',\n",
       " 'to',\n",
       " 'manufacturing',\n",
       " 'and',\n",
       " 'automotive',\n",
       " '–',\n",
       " 'and',\n",
       " 'the',\n",
       " 'market',\n",
       " 'is',\n",
       " 'continuing',\n",
       " 'to',\n",
       " 'grow',\n",
       " '.',\n",
       " 'It',\n",
       " 'is',\n",
       " 'expected',\n",
       " 'to',\n",
       " 'reach',\n",
       " 'USD',\n",
       " '48.6',\n",
       " 'billion',\n",
       " 'by',\n",
       " '2022']"
      ]
     },
     "execution_count": 24,
     "metadata": {},
     "output_type": "execute_result"
    }
   ],
   "source": [
    "CV_tokens=word_tokenize(CV)\n",
    "CV_tokens"
   ]
  },
  {
   "cell_type": "code",
   "execution_count": 25,
   "metadata": {},
   "outputs": [
    {
     "data": {
      "text/plain": [
       "216"
      ]
     },
     "execution_count": 25,
     "metadata": {},
     "output_type": "execute_result"
    }
   ],
   "source": [
    "len(CV_tokens)"
   ]
  },
  {
   "cell_type": "code",
   "execution_count": 26,
   "metadata": {},
   "outputs": [],
   "source": [
    "from nltk.probability import FreqDist\n",
    "fdist=FreqDist()"
   ]
  },
  {
   "cell_type": "code",
   "execution_count": 30,
   "metadata": {},
   "outputs": [
    {
     "data": {
      "text/plain": [
       "FreqDist({'to': 22, ',': 22, 'and': 20, 'vision': 12, 'a': 12, '.': 12, 'is': 10, 'computer': 8, 'of': 8, 'or': 8, ...})"
      ]
     },
     "execution_count": 30,
     "metadata": {},
     "output_type": "execute_result"
    }
   ],
   "source": [
    "for word in CV_tokens:\n",
    "    fdist[word.lower()]+=1\n",
    "fdist"
   ]
  },
  {
   "cell_type": "code",
   "execution_count": 31,
   "metadata": {},
   "outputs": [
    {
     "data": {
      "text/plain": [
       "[('to', 22),\n",
       " (',', 22),\n",
       " ('and', 20),\n",
       " ('vision', 12),\n",
       " ('a', 12),\n",
       " ('.', 12),\n",
       " ('is', 10),\n",
       " ('computer', 8),\n",
       " ('of', 8),\n",
       " ('or', 8)]"
      ]
     },
     "execution_count": 31,
     "metadata": {},
     "output_type": "execute_result"
    }
   ],
   "source": [
    "fdist.most_common(10)"
   ]
  },
  {
   "cell_type": "code",
   "execution_count": 33,
   "metadata": {},
   "outputs": [],
   "source": [
    "from nltk.util import bigrams,trigrams,ngrams"
   ]
  },
  {
   "cell_type": "code",
   "execution_count": 40,
   "metadata": {},
   "outputs": [
    {
     "data": {
      "text/plain": [
       "['Happiness',\n",
       " 'is',\n",
       " 'when',\n",
       " 'what',\n",
       " 'you',\n",
       " 'think',\n",
       " ',',\n",
       " 'what',\n",
       " 'you',\n",
       " 'say',\n",
       " ',',\n",
       " 'and',\n",
       " 'what',\n",
       " 'you',\n",
       " 'do',\n",
       " 'are',\n",
       " 'in',\n",
       " 'harmony',\n",
       " '.']"
      ]
     },
     "execution_count": 40,
     "metadata": {},
     "output_type": "execute_result"
    }
   ],
   "source": [
    "string1=\"Happiness is when what you think, what you say, and what you do are in harmony.\"\n",
    "str_tokens=nltk.word_tokenize(string1)\n",
    "str_tokens"
   ]
  },
  {
   "cell_type": "code",
   "execution_count": 39,
   "metadata": {},
   "outputs": [
    {
     "data": {
      "text/plain": [
       "[('Happiness', 'is'),\n",
       " ('is', 'when'),\n",
       " ('when', 'what'),\n",
       " ('what', 'you'),\n",
       " ('you', 'think'),\n",
       " ('think', ','),\n",
       " (',', 'what'),\n",
       " ('what', 'you'),\n",
       " ('you', 'say'),\n",
       " ('say', ','),\n",
       " (',', 'and'),\n",
       " ('and', 'what'),\n",
       " ('what', 'you'),\n",
       " ('you', 'do'),\n",
       " ('do', 'are'),\n",
       " ('are', 'in'),\n",
       " ('in', 'harmony'),\n",
       " ('harmony', '.')]"
      ]
     },
     "execution_count": 39,
     "metadata": {},
     "output_type": "execute_result"
    }
   ],
   "source": [
    "list(nltk.bigrams(str_tokens))#Bigrams"
   ]
  },
  {
   "cell_type": "code",
   "execution_count": 41,
   "metadata": {},
   "outputs": [
    {
     "data": {
      "text/plain": [
       "[('Happiness', 'is', 'when'),\n",
       " ('is', 'when', 'what'),\n",
       " ('when', 'what', 'you'),\n",
       " ('what', 'you', 'think'),\n",
       " ('you', 'think', ','),\n",
       " ('think', ',', 'what'),\n",
       " (',', 'what', 'you'),\n",
       " ('what', 'you', 'say'),\n",
       " ('you', 'say', ','),\n",
       " ('say', ',', 'and'),\n",
       " (',', 'and', 'what'),\n",
       " ('and', 'what', 'you'),\n",
       " ('what', 'you', 'do'),\n",
       " ('you', 'do', 'are'),\n",
       " ('do', 'are', 'in'),\n",
       " ('are', 'in', 'harmony'),\n",
       " ('in', 'harmony', '.')]"
      ]
     },
     "execution_count": 41,
     "metadata": {},
     "output_type": "execute_result"
    }
   ],
   "source": [
    "list(nltk.trigrams(str_tokens)) #TRigrams"
   ]
  },
  {
   "cell_type": "code",
   "execution_count": 45,
   "metadata": {},
   "outputs": [
    {
     "data": {
      "text/plain": [
       "[('Happiness', 'is', 'when', 'what'),\n",
       " ('is', 'when', 'what', 'you'),\n",
       " ('when', 'what', 'you', 'think'),\n",
       " ('what', 'you', 'think', ','),\n",
       " ('you', 'think', ',', 'what'),\n",
       " ('think', ',', 'what', 'you'),\n",
       " (',', 'what', 'you', 'say'),\n",
       " ('what', 'you', 'say', ','),\n",
       " ('you', 'say', ',', 'and'),\n",
       " ('say', ',', 'and', 'what'),\n",
       " (',', 'and', 'what', 'you'),\n",
       " ('and', 'what', 'you', 'do'),\n",
       " ('what', 'you', 'do', 'are'),\n",
       " ('you', 'do', 'are', 'in'),\n",
       " ('do', 'are', 'in', 'harmony'),\n",
       " ('are', 'in', 'harmony', '.')]"
      ]
     },
     "execution_count": 45,
     "metadata": {},
     "output_type": "execute_result"
    }
   ],
   "source": [
    "list(nltk.ngrams(str_tokens,4)) #Ngrams"
   ]
  }
 ],
 "metadata": {
  "kernelspec": {
   "display_name": "Python 3",
   "language": "python",
   "name": "python3"
  },
  "language_info": {
   "codemirror_mode": {
    "name": "ipython",
    "version": 3
   },
   "file_extension": ".py",
   "mimetype": "text/x-python",
   "name": "python",
   "nbconvert_exporter": "python",
   "pygments_lexer": "ipython3",
   "version": "3.8.3"
  }
 },
 "nbformat": 4,
 "nbformat_minor": 4
}
