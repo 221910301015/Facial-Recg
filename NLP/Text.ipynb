{
 "cells": [
  {
   "cell_type": "markdown",
   "id": "fc68bbc6",
   "metadata": {},
   "source": [
    "# Text Prediction \n",
    "## Description\n",
    "### This task is related to Natural Language Processing. Create a Deep Learning model such that the modal should predict the next occurring word when given a sentence."
   ]
  },
  {
   "cell_type": "code",
   "execution_count": null,
   "id": "e28d9f19",
   "metadata": {},
   "outputs": [],
   "source": [
    "## Installing required libraries"
   ]
  },
  {
   "cell_type": "code",
   "execution_count": 6,
   "id": "21eb2d56",
   "metadata": {},
   "outputs": [
    {
     "name": "stdout",
     "output_type": "stream",
     "text": [
      "Requirement already satisfied: keras in c:\\users\\admin\\anaconda3\\lib\\site-packages (2.8.0)Note: you may need to restart the kernel to use updated packages.\n",
      "\n"
     ]
    }
   ],
   "source": [
    "pip install keras"
   ]
  },
  {
   "cell_type": "code",
   "execution_count": 9,
   "id": "f4f2abdb",
   "metadata": {},
   "outputs": [
    {
     "name": "stdout",
     "output_type": "stream",
     "text": [
      "Requirement already satisfied: tensorflow in c:\\users\\admin\\anaconda3\\lib\\site-packages (2.8.0)\n",
      "Requirement already satisfied: h5py>=2.9.0 in c:\\users\\admin\\anaconda3\\lib\\site-packages (from tensorflow) (3.2.1)\n",
      "Requirement already satisfied: keras-preprocessing>=1.1.1 in c:\\users\\admin\\anaconda3\\lib\\site-packages (from tensorflow) (1.1.2)\n",
      "Requirement already satisfied: tensorboard<2.9,>=2.8 in c:\\users\\admin\\anaconda3\\lib\\site-packages (from tensorflow) (2.8.0)\n",
      "Requirement already satisfied: flatbuffers>=1.12 in c:\\users\\admin\\anaconda3\\lib\\site-packages (from tensorflow) (2.0)\n",
      "Requirement already satisfied: gast>=0.2.1 in c:\\users\\admin\\anaconda3\\lib\\site-packages (from tensorflow) (0.5.3)\n",
      "Requirement already satisfied: google-pasta>=0.1.1 in c:\\users\\admin\\anaconda3\\lib\\site-packages (from tensorflow) (0.2.0)\n",
      "Requirement already satisfied: setuptools in c:\\users\\admin\\anaconda3\\lib\\site-packages (from tensorflow) (58.0.4)\n",
      "Requirement already satisfied: six>=1.12.0 in c:\\users\\admin\\anaconda3\\lib\\site-packages (from tensorflow) (1.16.0)\n",
      "Requirement already satisfied: termcolor>=1.1.0 in c:\\users\\admin\\anaconda3\\lib\\site-packages (from tensorflow) (1.1.0)\n",
      "Requirement already satisfied: astunparse>=1.6.0 in c:\\users\\admin\\anaconda3\\lib\\site-packages (from tensorflow) (1.6.3)\n",
      "Requirement already satisfied: absl-py>=0.4.0 in c:\\users\\admin\\anaconda3\\lib\\site-packages (from tensorflow) (1.0.0)\n",
      "Requirement already satisfied: grpcio<2.0,>=1.24.3 in c:\\users\\admin\\anaconda3\\lib\\site-packages (from tensorflow) (1.44.0)\n",
      "Requirement already satisfied: keras<2.9,>=2.8.0rc0 in c:\\users\\admin\\anaconda3\\lib\\site-packages (from tensorflow) (2.8.0)\n",
      "Requirement already satisfied: tf-estimator-nightly==2.8.0.dev2021122109 in c:\\users\\admin\\anaconda3\\lib\\site-packages (from tensorflow) (2.8.0.dev2021122109)\n",
      "Requirement already satisfied: protobuf>=3.9.2 in c:\\users\\admin\\anaconda3\\lib\\site-packages (from tensorflow) (3.19.4)\n",
      "Requirement already satisfied: wrapt>=1.11.0 in c:\\users\\admin\\anaconda3\\lib\\site-packages (from tensorflow) (1.12.1)\n",
      "Requirement already satisfied: libclang>=9.0.1 in c:\\users\\admin\\anaconda3\\lib\\site-packages (from tensorflow) (13.0.0)\n",
      "Requirement already satisfied: numpy>=1.20 in c:\\users\\admin\\anaconda3\\lib\\site-packages (from tensorflow) (1.20.3)\n",
      "Requirement already satisfied: opt-einsum>=2.3.2 in c:\\users\\admin\\anaconda3\\lib\\site-packages (from tensorflow) (3.3.0)\n",
      "Requirement already satisfied: tensorflow-io-gcs-filesystem>=0.23.1 in c:\\users\\admin\\anaconda3\\lib\\site-packages (from tensorflow) (0.24.0)\n",
      "Requirement already satisfied: typing-extensions>=3.6.6 in c:\\users\\admin\\anaconda3\\lib\\site-packages (from tensorflow) (3.10.0.2)\n",
      "Requirement already satisfied: wheel<1.0,>=0.23.0 in c:\\users\\admin\\anaconda3\\lib\\site-packages (from astunparse>=1.6.0->tensorflow) (0.37.0)\n",
      "Requirement already satisfied: tensorboard-data-server<0.7.0,>=0.6.0 in c:\\users\\admin\\anaconda3\\lib\\site-packages (from tensorboard<2.9,>=2.8->tensorflow) (0.6.1)\n",
      "Requirement already satisfied: google-auth<3,>=1.6.3 in c:\\users\\admin\\anaconda3\\lib\\site-packages (from tensorboard<2.9,>=2.8->tensorflow) (2.6.0)\n",
      "Requirement already satisfied: tensorboard-plugin-wit>=1.6.0 in c:\\users\\admin\\anaconda3\\lib\\site-packages (from tensorboard<2.9,>=2.8->tensorflow) (1.8.1)\n",
      "Requirement already satisfied: markdown>=2.6.8 in c:\\users\\admin\\anaconda3\\lib\\site-packages (from tensorboard<2.9,>=2.8->tensorflow) (3.3.6)\n",
      "Requirement already satisfied: werkzeug>=0.11.15 in c:\\users\\admin\\anaconda3\\lib\\site-packages (from tensorboard<2.9,>=2.8->tensorflow) (2.0.2)\n",
      "Requirement already satisfied: google-auth-oauthlib<0.5,>=0.4.1 in c:\\users\\admin\\anaconda3\\lib\\site-packages (from tensorboard<2.9,>=2.8->tensorflow) (0.4.6)\n",
      "Requirement already satisfied: requests<3,>=2.21.0 in c:\\users\\admin\\anaconda3\\lib\\site-packages (from tensorboard<2.9,>=2.8->tensorflow) (2.26.0)\n",
      "Requirement already satisfied: rsa<5,>=3.1.4 in c:\\users\\admin\\anaconda3\\lib\\site-packages (from google-auth<3,>=1.6.3->tensorboard<2.9,>=2.8->tensorflow) (4.8)\n",
      "Requirement already satisfied: cachetools<6.0,>=2.0.0 in c:\\users\\admin\\anaconda3\\lib\\site-packages (from google-auth<3,>=1.6.3->tensorboard<2.9,>=2.8->tensorflow) (5.0.0)\n",
      "Requirement already satisfied: pyasn1-modules>=0.2.1 in c:\\users\\admin\\anaconda3\\lib\\site-packages (from google-auth<3,>=1.6.3->tensorboard<2.9,>=2.8->tensorflow) (0.2.8)\n",
      "Requirement already satisfied: requests-oauthlib>=0.7.0 in c:\\users\\admin\\anaconda3\\lib\\site-packages (from google-auth-oauthlib<0.5,>=0.4.1->tensorboard<2.9,>=2.8->tensorflow) (1.3.1)\n",
      "Requirement already satisfied: importlib-metadata>=4.4 in c:\\users\\admin\\anaconda3\\lib\\site-packages (from markdown>=2.6.8->tensorboard<2.9,>=2.8->tensorflow) (4.8.1)\n",
      "Requirement already satisfied: zipp>=0.5 in c:\\users\\admin\\anaconda3\\lib\\site-packages (from importlib-metadata>=4.4->markdown>=2.6.8->tensorboard<2.9,>=2.8->tensorflow) (3.6.0)\n",
      "Requirement already satisfied: pyasn1<0.5.0,>=0.4.6 in c:\\users\\admin\\anaconda3\\lib\\site-packages (from pyasn1-modules>=0.2.1->google-auth<3,>=1.6.3->tensorboard<2.9,>=2.8->tensorflow) (0.4.8)\n",
      "Requirement already satisfied: urllib3<1.27,>=1.21.1 in c:\\users\\admin\\anaconda3\\lib\\site-packages (from requests<3,>=2.21.0->tensorboard<2.9,>=2.8->tensorflow) (1.26.7)\n",
      "Requirement already satisfied: charset-normalizer~=2.0.0 in c:\\users\\admin\\anaconda3\\lib\\site-packages (from requests<3,>=2.21.0->tensorboard<2.9,>=2.8->tensorflow) (2.0.4)\n",
      "Requirement already satisfied: certifi>=2017.4.17 in c:\\users\\admin\\anaconda3\\lib\\site-packages (from requests<3,>=2.21.0->tensorboard<2.9,>=2.8->tensorflow) (2021.10.8)\n",
      "Requirement already satisfied: idna<4,>=2.5 in c:\\users\\admin\\anaconda3\\lib\\site-packages (from requests<3,>=2.21.0->tensorboard<2.9,>=2.8->tensorflow) (3.2)\n",
      "Requirement already satisfied: oauthlib>=3.0.0 in c:\\users\\admin\\anaconda3\\lib\\site-packages (from requests-oauthlib>=0.7.0->google-auth-oauthlib<0.5,>=0.4.1->tensorboard<2.9,>=2.8->tensorflow) (3.2.0)\n",
      "Note: you may need to restart the kernel to use updated packages.\n"
     ]
    }
   ],
   "source": [
    "pip install tensorflow"
   ]
  },
  {
   "cell_type": "code",
   "execution_count": 15,
   "id": "70256d0c",
   "metadata": {},
   "outputs": [],
   "source": [
    "from numpy import array\n",
    "from keras.preprocessing.text import Tokenizer\n",
    "from  tensorflow.keras.utils import to_categorical\n",
    "from keras.models import Sequential\n",
    "from keras.layers import Dense\n",
    "from keras.layers import LSTM\n",
    "from keras.layers import Embedding"
   ]
  },
  {
   "cell_type": "code",
   "execution_count": 3,
   "id": "88437cc5",
   "metadata": {},
   "outputs": [],
   "source": [
    "data =\"\"\" One morning, when Gregor Samsa woke from troubled dreams, he found\n",
    "himself transformed in his bed into a horrible vermin.  He lay on\n",
    "his armour-like back, and if he lifted his head a little he could\n",
    "see his brown belly, slightly domed and divided by arches into stiff\n",
    "sections.  The bedding was hardly able to cover it and seemed ready\n",
    "to slide off any moment.  His many legs, pitifully thin compared\n",
    "with the size of the rest of him, waved about helplessly as he\n",
    "looked.\"\"\""
   ]
  },
  {
   "cell_type": "code",
   "execution_count": 52,
   "id": "ece7f16c",
   "metadata": {},
   "outputs": [
    {
     "data": {
      "text/plain": [
       "[9, 10, 11, 12, 13, 14, 15, 16, 17, 1]"
      ]
     },
     "execution_count": 52,
     "metadata": {},
     "output_type": "execute_result"
    }
   ],
   "source": [
    "# Integer encode text\n",
    "tokenizer=Tokenizer()\n",
    "tokenizer.fit_on_texts([data])\n",
    "encoded_data=tokenizer.texts_to_sequences([data])[0]\n",
    "encoded_data[:10]"
   ]
  },
  {
   "cell_type": "code",
   "execution_count": 5,
   "id": "5292e541",
   "metadata": {},
   "outputs": [
    {
     "data": {
      "text/plain": [
       "71"
      ]
     },
     "execution_count": 5,
     "metadata": {},
     "output_type": "execute_result"
    }
   ],
   "source": [
    "# describe vocab size\n",
    "vocab_size=len(tokenizer.word_index)+1\n",
    "vocab_size"
   ]
  },
  {
   "cell_type": "code",
   "execution_count": 8,
   "id": "3c9f7843",
   "metadata": {},
   "outputs": [
    {
     "data": {
      "text/plain": [
       "85"
      ]
     },
     "execution_count": 8,
     "metadata": {},
     "output_type": "execute_result"
    }
   ],
   "source": [
    "sequences=list()\n",
    "for i in range(1,len(encoded_data)):\n",
    "    sequence=encoded_data[i-1:i+1]\n",
    "    sequences.append(sequence)\n",
    "len(sequences)\n",
    "    "
   ]
  },
  {
   "cell_type": "code",
   "execution_count": 53,
   "id": "3a1b1e9b",
   "metadata": {},
   "outputs": [
    {
     "data": {
      "text/plain": [
       "array([[ 9, 10],\n",
       "       [10, 11],\n",
       "       [11, 12],\n",
       "       [12, 13],\n",
       "       [13, 14],\n",
       "       [14, 15],\n",
       "       [15, 16],\n",
       "       [16, 17],\n",
       "       [17,  1],\n",
       "       [ 1, 18]])"
      ]
     },
     "execution_count": 53,
     "metadata": {},
     "output_type": "execute_result"
    }
   ],
   "source": [
    "sequences[:10]"
   ]
  },
  {
   "cell_type": "code",
   "execution_count": 54,
   "id": "0c576f7f",
   "metadata": {},
   "outputs": [],
   "source": [
    "sequences=array(sequences)\n",
    "x,y=sequences[:,0],sequences[:,1]"
   ]
  },
  {
   "cell_type": "code",
   "execution_count": 55,
   "id": "7c9bc22e",
   "metadata": {},
   "outputs": [
    {
     "data": {
      "text/plain": [
       "array([ 9, 10, 11, 12, 13])"
      ]
     },
     "execution_count": 55,
     "metadata": {},
     "output_type": "execute_result"
    }
   ],
   "source": [
    "x[:5]"
   ]
  },
  {
   "cell_type": "code",
   "execution_count": 56,
   "id": "b5855064",
   "metadata": {},
   "outputs": [
    {
     "data": {
      "text/plain": [
       "array([10, 11, 12, 13, 14])"
      ]
     },
     "execution_count": 56,
     "metadata": {},
     "output_type": "execute_result"
    }
   ],
   "source": [
    "y[:5]"
   ]
  },
  {
   "cell_type": "code",
   "execution_count": 57,
   "id": "c10fae8a",
   "metadata": {},
   "outputs": [
    {
     "data": {
      "text/plain": [
       "array([[0., 0., 0., 0., 0., 0., 0., 0., 0., 0., 1., 0., 0., 0., 0., 0.,\n",
       "        0., 0., 0., 0., 0., 0., 0., 0., 0., 0., 0., 0., 0., 0., 0., 0.,\n",
       "        0., 0., 0., 0., 0., 0., 0., 0., 0., 0., 0., 0., 0., 0., 0., 0.,\n",
       "        0., 0., 0., 0., 0., 0., 0., 0., 0., 0., 0., 0., 0., 0., 0., 0.,\n",
       "        0., 0., 0., 0., 0., 0., 0.],\n",
       "       [0., 0., 0., 0., 0., 0., 0., 0., 0., 0., 0., 1., 0., 0., 0., 0.,\n",
       "        0., 0., 0., 0., 0., 0., 0., 0., 0., 0., 0., 0., 0., 0., 0., 0.,\n",
       "        0., 0., 0., 0., 0., 0., 0., 0., 0., 0., 0., 0., 0., 0., 0., 0.,\n",
       "        0., 0., 0., 0., 0., 0., 0., 0., 0., 0., 0., 0., 0., 0., 0., 0.,\n",
       "        0., 0., 0., 0., 0., 0., 0.],\n",
       "       [0., 0., 0., 0., 0., 0., 0., 0., 0., 0., 0., 0., 1., 0., 0., 0.,\n",
       "        0., 0., 0., 0., 0., 0., 0., 0., 0., 0., 0., 0., 0., 0., 0., 0.,\n",
       "        0., 0., 0., 0., 0., 0., 0., 0., 0., 0., 0., 0., 0., 0., 0., 0.,\n",
       "        0., 0., 0., 0., 0., 0., 0., 0., 0., 0., 0., 0., 0., 0., 0., 0.,\n",
       "        0., 0., 0., 0., 0., 0., 0.],\n",
       "       [0., 0., 0., 0., 0., 0., 0., 0., 0., 0., 0., 0., 0., 1., 0., 0.,\n",
       "        0., 0., 0., 0., 0., 0., 0., 0., 0., 0., 0., 0., 0., 0., 0., 0.,\n",
       "        0., 0., 0., 0., 0., 0., 0., 0., 0., 0., 0., 0., 0., 0., 0., 0.,\n",
       "        0., 0., 0., 0., 0., 0., 0., 0., 0., 0., 0., 0., 0., 0., 0., 0.,\n",
       "        0., 0., 0., 0., 0., 0., 0.],\n",
       "       [0., 0., 0., 0., 0., 0., 0., 0., 0., 0., 0., 0., 0., 0., 1., 0.,\n",
       "        0., 0., 0., 0., 0., 0., 0., 0., 0., 0., 0., 0., 0., 0., 0., 0.,\n",
       "        0., 0., 0., 0., 0., 0., 0., 0., 0., 0., 0., 0., 0., 0., 0., 0.,\n",
       "        0., 0., 0., 0., 0., 0., 0., 0., 0., 0., 0., 0., 0., 0., 0., 0.,\n",
       "        0., 0., 0., 0., 0., 0., 0.]], dtype=float32)"
      ]
     },
     "execution_count": 57,
     "metadata": {},
     "output_type": "execute_result"
    }
   ],
   "source": [
    "# Converts a class vector(integers)to binary class matrix\n",
    "y=to_categorical(y,num_classes=vocab_size)\n",
    "y[:5]"
   ]
  },
  {
   "cell_type": "code",
   "execution_count": null,
   "id": "36a444f3",
   "metadata": {},
   "outputs": [],
   "source": [
    "# Creating a Sequential Model "
   ]
  },
  {
   "cell_type": "code",
   "execution_count": 59,
   "id": "483a3ccd",
   "metadata": {},
   "outputs": [
    {
     "name": "stdout",
     "output_type": "stream",
     "text": [
      "Model: \"sequential_10\"\n",
      "_________________________________________________________________\n",
      " Layer (type)                Output Shape              Param #   \n",
      "=================================================================\n",
      " embedding_8 (Embedding)     (None, 1, 10)             710       \n",
      "                                                                 \n",
      " lstm_8 (LSTM)               (None, 50)                12200     \n",
      "                                                                 \n",
      " dense_10 (Dense)            (None, 71)                3621      \n",
      "                                                                 \n",
      " dense_11 (Dense)            (None, 71)                5112      \n",
      "                                                                 \n",
      "=================================================================\n",
      "Total params: 21,643\n",
      "Trainable params: 21,643\n",
      "Non-trainable params: 0\n",
      "_________________________________________________________________\n",
      "None\n"
     ]
    }
   ],
   "source": [
    "model=Sequential()\n",
    "# Embeding layer\n",
    "model.add(Embedding(vocab_size,10,input_length=1))\n",
    "# Recurrent layer\n",
    "model.add(LSTM(50))\n",
    "# Fully connected layer\n",
    "model.add(Dense(vocab_size,activation='relu'))\n",
    "# Output Layer\n",
    "model.add(Dense(vocab_size,activation='softmax'))\n",
    "print(model.summary())\n"
   ]
  },
  {
   "cell_type": "code",
   "execution_count": 60,
   "id": "b0ab278d",
   "metadata": {},
   "outputs": [],
   "source": [
    "# Compiling the model\n",
    "model.compile(loss='categorical_crossentropy',optimizer='adam',metrics=['accuracy'])"
   ]
  },
  {
   "cell_type": "code",
   "execution_count": 61,
   "id": "1fd5a0a1",
   "metadata": {},
   "outputs": [
    {
     "name": "stdout",
     "output_type": "stream",
     "text": [
      "Epoch 1/100\n",
      "3/3 [==============================] - 4s 7ms/step - loss: 4.2630 - accuracy: 0.0118\n",
      "Epoch 2/100\n",
      "3/3 [==============================] - 0s 8ms/step - loss: 4.2607 - accuracy: 0.0706\n",
      "Epoch 3/100\n",
      "3/3 [==============================] - 0s 8ms/step - loss: 4.2590 - accuracy: 0.0941\n",
      "Epoch 4/100\n",
      "3/3 [==============================] - 0s 8ms/step - loss: 4.2572 - accuracy: 0.0824\n",
      "Epoch 5/100\n",
      "3/3 [==============================] - 0s 7ms/step - loss: 4.2553 - accuracy: 0.0706\n",
      "Epoch 6/100\n",
      "3/3 [==============================] - 0s 9ms/step - loss: 4.2534 - accuracy: 0.0706\n",
      "Epoch 7/100\n",
      "3/3 [==============================] - 0s 9ms/step - loss: 4.2514 - accuracy: 0.0824\n",
      "Epoch 8/100\n",
      "3/3 [==============================] - 0s 7ms/step - loss: 4.2490 - accuracy: 0.0824\n",
      "Epoch 9/100\n",
      "3/3 [==============================] - 0s 8ms/step - loss: 4.2465 - accuracy: 0.0824\n",
      "Epoch 10/100\n",
      "3/3 [==============================] - 0s 8ms/step - loss: 4.2441 - accuracy: 0.0824\n",
      "Epoch 11/100\n",
      "3/3 [==============================] - 0s 10ms/step - loss: 4.2412 - accuracy: 0.1059\n",
      "Epoch 12/100\n",
      "3/3 [==============================] - 0s 9ms/step - loss: 4.2378 - accuracy: 0.1059\n",
      "Epoch 13/100\n",
      "3/3 [==============================] - 0s 6ms/step - loss: 4.2345 - accuracy: 0.1059\n",
      "Epoch 14/100\n",
      "3/3 [==============================] - 0s 9ms/step - loss: 4.2306 - accuracy: 0.1059\n",
      "Epoch 15/100\n",
      "3/3 [==============================] - 0s 8ms/step - loss: 4.2263 - accuracy: 0.1059\n",
      "Epoch 16/100\n",
      "3/3 [==============================] - 0s 8ms/step - loss: 4.2215 - accuracy: 0.1059\n",
      "Epoch 17/100\n",
      "3/3 [==============================] - 0s 8ms/step - loss: 4.2162 - accuracy: 0.1059\n",
      "Epoch 18/100\n",
      "3/3 [==============================] - 0s 6ms/step - loss: 4.2098 - accuracy: 0.1059\n",
      "Epoch 19/100\n",
      "3/3 [==============================] - 0s 8ms/step - loss: 4.2034 - accuracy: 0.1059\n",
      "Epoch 20/100\n",
      "3/3 [==============================] - 0s 8ms/step - loss: 4.1960 - accuracy: 0.1059\n",
      "Epoch 21/100\n",
      "3/3 [==============================] - 0s 6ms/step - loss: 4.1877 - accuracy: 0.0941\n",
      "Epoch 22/100\n",
      "3/3 [==============================] - 0s 11ms/step - loss: 4.1779 - accuracy: 0.0706\n",
      "Epoch 23/100\n",
      "3/3 [==============================] - 0s 8ms/step - loss: 4.1677 - accuracy: 0.0706\n",
      "Epoch 24/100\n",
      "3/3 [==============================] - 0s 4ms/step - loss: 4.1550 - accuracy: 0.0706\n",
      "Epoch 25/100\n",
      "3/3 [==============================] - 0s 7ms/step - loss: 4.1420 - accuracy: 0.0706\n",
      "Epoch 26/100\n",
      "3/3 [==============================] - 0s 7ms/step - loss: 4.1281 - accuracy: 0.0706\n",
      "Epoch 27/100\n",
      "3/3 [==============================] - 0s 8ms/step - loss: 4.1105 - accuracy: 0.0706\n",
      "Epoch 28/100\n",
      "3/3 [==============================] - 0s 9ms/step - loss: 4.0926 - accuracy: 0.0706\n",
      "Epoch 29/100\n",
      "3/3 [==============================] - 0s 7ms/step - loss: 4.0712 - accuracy: 0.0706\n",
      "Epoch 30/100\n",
      "3/3 [==============================] - 0s 7ms/step - loss: 4.0504 - accuracy: 0.0706\n",
      "Epoch 31/100\n",
      "3/3 [==============================] - 0s 9ms/step - loss: 4.0230 - accuracy: 0.0706\n",
      "Epoch 32/100\n",
      "3/3 [==============================] - 0s 9ms/step - loss: 3.9978 - accuracy: 0.0588\n",
      "Epoch 33/100\n",
      "3/3 [==============================] - 0s 9ms/step - loss: 3.9695 - accuracy: 0.0588\n",
      "Epoch 34/100\n",
      "3/3 [==============================] - 0s 7ms/step - loss: 3.9374 - accuracy: 0.0588\n",
      "Epoch 35/100\n",
      "3/3 [==============================] - 0s 7ms/step - loss: 3.9028 - accuracy: 0.0588\n",
      "Epoch 36/100\n",
      "3/3 [==============================] - 0s 6ms/step - loss: 3.8704 - accuracy: 0.0588\n",
      "Epoch 37/100\n",
      "3/3 [==============================] - 0s 9ms/step - loss: 3.8330 - accuracy: 0.0588\n",
      "Epoch 38/100\n",
      "3/3 [==============================] - 0s 6ms/step - loss: 3.7952 - accuracy: 0.0588\n",
      "Epoch 39/100\n",
      "3/3 [==============================] - 0s 4ms/step - loss: 3.7624 - accuracy: 0.0588\n",
      "Epoch 40/100\n",
      "3/3 [==============================] - 0s 7ms/step - loss: 3.7227 - accuracy: 0.0588\n",
      "Epoch 41/100\n",
      "3/3 [==============================] - 0s 6ms/step - loss: 3.6884 - accuracy: 0.0706\n",
      "Epoch 42/100\n",
      "3/3 [==============================] - 0s 5ms/step - loss: 3.6516 - accuracy: 0.0706\n",
      "Epoch 43/100\n",
      "3/3 [==============================] - 0s 10ms/step - loss: 3.6172 - accuracy: 0.0706\n",
      "Epoch 44/100\n",
      "3/3 [==============================] - 0s 8ms/step - loss: 3.5816 - accuracy: 0.0706\n",
      "Epoch 45/100\n",
      "3/3 [==============================] - 0s 6ms/step - loss: 3.5461 - accuracy: 0.1176\n",
      "Epoch 46/100\n",
      "3/3 [==============================] - 0s 7ms/step - loss: 3.5097 - accuracy: 0.1176\n",
      "Epoch 47/100\n",
      "3/3 [==============================] - 0s 7ms/step - loss: 3.4738 - accuracy: 0.1294\n",
      "Epoch 48/100\n",
      "3/3 [==============================] - 0s 4ms/step - loss: 3.4369 - accuracy: 0.1529\n",
      "Epoch 49/100\n",
      "3/3 [==============================] - 0s 12ms/step - loss: 3.4006 - accuracy: 0.1765\n",
      "Epoch 50/100\n",
      "3/3 [==============================] - 0s 11ms/step - loss: 3.3647 - accuracy: 0.1882\n",
      "Epoch 51/100\n",
      "3/3 [==============================] - 0s 11ms/step - loss: 3.3232 - accuracy: 0.1882\n",
      "Epoch 52/100\n",
      "3/3 [==============================] - 0s 10ms/step - loss: 3.2849 - accuracy: 0.2000\n",
      "Epoch 53/100\n",
      "3/3 [==============================] - 0s 9ms/step - loss: 3.2442 - accuracy: 0.2000\n",
      "Epoch 54/100\n",
      "3/3 [==============================] - 0s 6ms/step - loss: 3.2055 - accuracy: 0.2000\n",
      "Epoch 55/100\n",
      "3/3 [==============================] - 0s 6ms/step - loss: 3.1643 - accuracy: 0.2000\n",
      "Epoch 56/100\n",
      "3/3 [==============================] - 0s 4ms/step - loss: 3.1233 - accuracy: 0.2000\n",
      "Epoch 57/100\n",
      "3/3 [==============================] - 0s 3ms/step - loss: 3.0817 - accuracy: 0.2000\n",
      "Epoch 58/100\n",
      "3/3 [==============================] - 0s 3ms/step - loss: 3.0398 - accuracy: 0.2000\n",
      "Epoch 59/100\n",
      "3/3 [==============================] - 0s 7ms/step - loss: 2.9975 - accuracy: 0.2000\n",
      "Epoch 60/100\n",
      "3/3 [==============================] - 0s 4ms/step - loss: 2.9555 - accuracy: 0.2000\n",
      "Epoch 61/100\n",
      "3/3 [==============================] - 0s 6ms/step - loss: 2.9124 - accuracy: 0.2000\n",
      "Epoch 62/100\n",
      "3/3 [==============================] - 0s 6ms/step - loss: 2.8704 - accuracy: 0.2000\n",
      "Epoch 63/100\n",
      "3/3 [==============================] - 0s 6ms/step - loss: 2.8266 - accuracy: 0.2000\n",
      "Epoch 64/100\n",
      "3/3 [==============================] - 0s 2ms/step - loss: 2.7831 - accuracy: 0.2000\n",
      "Epoch 65/100\n",
      "3/3 [==============================] - 0s 4ms/step - loss: 2.7389 - accuracy: 0.2000\n",
      "Epoch 66/100\n",
      "3/3 [==============================] - 0s 3ms/step - loss: 2.6938 - accuracy: 0.2118\n",
      "Epoch 67/100\n",
      "3/3 [==============================] - 0s 4ms/step - loss: 2.6504 - accuracy: 0.2118\n",
      "Epoch 68/100\n",
      "3/3 [==============================] - 0s 8ms/step - loss: 2.6048 - accuracy: 0.2118\n",
      "Epoch 69/100\n",
      "3/3 [==============================] - 0s 3ms/step - loss: 2.5607 - accuracy: 0.2353\n",
      "Epoch 70/100\n",
      "3/3 [==============================] - 0s 7ms/step - loss: 2.5151 - accuracy: 0.2353\n",
      "Epoch 71/100\n",
      "3/3 [==============================] - 0s 7ms/step - loss: 2.4687 - accuracy: 0.2353\n",
      "Epoch 72/100\n",
      "3/3 [==============================] - 0s 5ms/step - loss: 2.4227 - accuracy: 0.2471\n",
      "Epoch 73/100\n",
      "3/3 [==============================] - 0s 4ms/step - loss: 2.3761 - accuracy: 0.2588\n",
      "Epoch 74/100\n",
      "3/3 [==============================] - 0s 6ms/step - loss: 2.3285 - accuracy: 0.2588\n",
      "Epoch 75/100\n",
      "3/3 [==============================] - 0s 7ms/step - loss: 2.2820 - accuracy: 0.3059\n",
      "Epoch 76/100\n",
      "3/3 [==============================] - 0s 4ms/step - loss: 2.2346 - accuracy: 0.3176\n",
      "Epoch 77/100\n",
      "3/3 [==============================] - 0s 5ms/step - loss: 2.1895 - accuracy: 0.3294\n",
      "Epoch 78/100\n",
      "3/3 [==============================] - 0s 4ms/step - loss: 2.1395 - accuracy: 0.3529\n",
      "Epoch 79/100\n",
      "3/3 [==============================] - 0s 4ms/step - loss: 2.0909 - accuracy: 0.3765\n",
      "Epoch 80/100\n",
      "3/3 [==============================] - 0s 6ms/step - loss: 2.0437 - accuracy: 0.4000\n",
      "Epoch 81/100\n",
      "3/3 [==============================] - 0s 7ms/step - loss: 1.9951 - accuracy: 0.4118\n",
      "Epoch 82/100\n",
      "3/3 [==============================] - 0s 7ms/step - loss: 1.9480 - accuracy: 0.4353\n",
      "Epoch 83/100\n",
      "3/3 [==============================] - 0s 8ms/step - loss: 1.9006 - accuracy: 0.4588\n",
      "Epoch 84/100\n",
      "3/3 [==============================] - 0s 5ms/step - loss: 1.8537 - accuracy: 0.4824\n",
      "Epoch 85/100\n",
      "3/3 [==============================] - 0s 5ms/step - loss: 1.8064 - accuracy: 0.5059\n",
      "Epoch 86/100\n",
      "3/3 [==============================] - 0s 8ms/step - loss: 1.7601 - accuracy: 0.5294\n",
      "Epoch 87/100\n",
      "3/3 [==============================] - 0s 5ms/step - loss: 1.7131 - accuracy: 0.5412\n",
      "Epoch 88/100\n",
      "3/3 [==============================] - 0s 6ms/step - loss: 1.6691 - accuracy: 0.5412\n",
      "Epoch 89/100\n",
      "3/3 [==============================] - 0s 6ms/step - loss: 1.6256 - accuracy: 0.5765\n",
      "Epoch 90/100\n",
      "3/3 [==============================] - 0s 7ms/step - loss: 1.5818 - accuracy: 0.6000\n",
      "Epoch 91/100\n",
      "3/3 [==============================] - 0s 7ms/step - loss: 1.5398 - accuracy: 0.6235\n",
      "Epoch 92/100\n",
      "3/3 [==============================] - 0s 7ms/step - loss: 1.4977 - accuracy: 0.6353\n",
      "Epoch 93/100\n",
      "3/3 [==============================] - 0s 7ms/step - loss: 1.4574 - accuracy: 0.6588\n",
      "Epoch 94/100\n",
      "3/3 [==============================] - 0s 6ms/step - loss: 1.4196 - accuracy: 0.6588\n",
      "Epoch 95/100\n",
      "3/3 [==============================] - 0s 6ms/step - loss: 1.3811 - accuracy: 0.6941\n",
      "Epoch 96/100\n",
      "3/3 [==============================] - 0s 6ms/step - loss: 1.3431 - accuracy: 0.6941\n",
      "Epoch 97/100\n",
      "3/3 [==============================] - 0s 4ms/step - loss: 1.3066 - accuracy: 0.6941\n",
      "Epoch 98/100\n",
      "3/3 [==============================] - 0s 7ms/step - loss: 1.2716 - accuracy: 0.7059\n",
      "Epoch 99/100\n",
      "3/3 [==============================] - 0s 7ms/step - loss: 1.2377 - accuracy: 0.7059\n",
      "Epoch 100/100\n",
      "3/3 [==============================] - 0s 7ms/step - loss: 1.2047 - accuracy: 0.7294\n"
     ]
    },
    {
     "data": {
      "text/plain": [
       "<keras.callbacks.History at 0x17bddb3c580>"
      ]
     },
     "execution_count": 61,
     "metadata": {},
     "output_type": "execute_result"
    }
   ],
   "source": [
    "model.fit(x,y,epochs=100)"
   ]
  }
 ],
 "metadata": {
  "kernelspec": {
   "display_name": "Python 3 (ipykernel)",
   "language": "python",
   "name": "python3"
  },
  "language_info": {
   "codemirror_mode": {
    "name": "ipython",
    "version": 3
   },
   "file_extension": ".py",
   "mimetype": "text/x-python",
   "name": "python",
   "nbconvert_exporter": "python",
   "pygments_lexer": "ipython3",
   "version": "3.9.7"
  }
 },
 "nbformat": 4,
 "nbformat_minor": 5
}
