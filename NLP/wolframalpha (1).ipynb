{
 "cells": [
  {
   "cell_type": "code",
   "execution_count": 1,
   "metadata": {},
   "outputs": [],
   "source": [
    "import wolframalpha"
   ]
  },
  {
   "cell_type": "code",
   "execution_count": 5,
   "metadata": {},
   "outputs": [
    {
     "name": "stdout",
     "output_type": "stream",
     "text": [
      "hello! I am wolfram aplpha assistant !\n",
      "i am here to help you\n",
      "Ask your queries?100*2+56-45+8\n",
      "219\n",
      "Ask your queries?India Capital?\n",
      "New Delhi, Delhi, India\n",
      "Ask your queries?Get Information about hyderabad\n",
      "city population | 6.81 million people (country rank: 4th) (2011 estimate)\n",
      "Ask your queries?Square of 64\n",
      "4096\n",
      "Ask your queries?bye\n",
      "I don't know why you say goodbye; I say hello!\n",
      "(according to The Beatles song Hello, Goodbye released as a single in November 1967)\n"
     ]
    }
   ],
   "source": [
    "userquestion='hi'\n",
    "print(\"hello! I am wolfram aplpha assistant !\")\n",
    "print(\"i am here to help you\")\n",
    "while(userquestion!='bye'):\n",
    "    userquestion=input(\"Ask your queries?\")\n",
    "    client=wolframalpha.Client('8L4YWA-2J9VRGH4R4')\n",
    "    response=client.query(userquestion)\n",
    "    answer=next(response.results).text\n",
    "    print(answer)\n",
    "    "
   ]
  },
  {
   "cell_type": "code",
   "execution_count": null,
   "metadata": {},
   "outputs": [],
   "source": []
  }
 ],
 "metadata": {
  "kernelspec": {
   "display_name": "Python 3",
   "language": "python",
   "name": "python3"
  },
  "language_info": {
   "codemirror_mode": {
    "name": "ipython",
    "version": 3
   },
   "file_extension": ".py",
   "mimetype": "text/x-python",
   "name": "python",
   "nbconvert_exporter": "python",
   "pygments_lexer": "ipython3",
   "version": "3.8.3"
  }
 },
 "nbformat": 4,
 "nbformat_minor": 4
}
