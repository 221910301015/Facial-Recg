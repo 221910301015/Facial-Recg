{
 "cells": [
  {
   "cell_type": "code",
   "execution_count": null,
   "metadata": {},
   "outputs": [
    {
     "name": "stdout",
     "output_type": "stream",
     "text": [
      "showing info https://raw.githubusercontent.com/nltk/nltk_data/gh-pages/index.xml\n"
     ]
    }
   ],
   "source": [
    "import nltk\n",
    "nltk.download()"
   ]
  },
  {
   "cell_type": "code",
   "execution_count": 1,
   "metadata": {},
   "outputs": [
    {
     "name": "stdout",
     "output_type": "stream",
     "text": [
      "['Computer vision is a field of artificial intelligence']\n"
     ]
    }
   ],
   "source": [
    "from nltk.tokenize import sent_tokenize\n",
    "text=\"Computer vision is a field of artificial intelligence \"\n",
    "tokenize_text=sent_tokenize(text)\n",
    "print(tokenize_text)"
   ]
  },
  {
   "cell_type": "code",
   "execution_count": 2,
   "metadata": {},
   "outputs": [
    {
     "name": "stdout",
     "output_type": "stream",
     "text": [
      "['Computer', 'vision', 'is', 'a', 'field', 'of', 'artificial', 'intelligence']\n"
     ]
    }
   ],
   "source": [
    "from nltk.tokenize import word_tokenize\n",
    "text=\"Computer vision is a field of artificial intelligence \"\n",
    "tokenize_text=word_tokenize(text)\n",
    "print(tokenize_text)"
   ]
  },
  {
   "cell_type": "code",
   "execution_count": 7,
   "metadata": {},
   "outputs": [
    {
     "name": "stdout",
     "output_type": "stream",
     "text": [
      "comput\n",
      "comput\n",
      "comput\n"
     ]
    }
   ],
   "source": [
    "from nltk.stem import PorterStemmer\n",
    "words=[\"computes\",\"computing\",\"computer\"]\n",
    "ps=PorterStemmer()\n",
    "for w in words:\n",
    "    rootword=ps.stem(w)\n",
    "    print(rootword)"
   ]
  },
  {
   "cell_type": "code",
   "execution_count": 13,
   "metadata": {},
   "outputs": [
    {
     "name": "stdout",
     "output_type": "stream",
     "text": [
      "play\n"
     ]
    }
   ],
   "source": [
    "#Lemmatiztion:Converts allverb forms into root word\n",
    "import nltk\n",
    "from nltk.stem import WordNetLemmatizer\n",
    "lem=WordNetLemmatizer()\n",
    "print(lem.lemmatize(\"plays\"))"
   ]
  },
  {
   "cell_type": "code",
   "execution_count": 15,
   "metadata": {},
   "outputs": [
    {
     "name": "stdout",
     "output_type": "stream",
     "text": [
      "[('Computer', 'NNP'), ('vision', 'NN'), ('is', 'VBZ'), ('a', 'DT'), ('field', 'NN'), ('of', 'IN'), ('artificial', 'JJ'), ('intelligence', 'NN')]\n"
     ]
    }
   ],
   "source": [
    "from nltk import word_tokenize,pos_tag\n",
    "text=\"Computer vision is a field of artificial intelligence \"\n",
    "print(pos_tag(word_tokenize(text)))"
   ]
  },
  {
   "cell_type": "code",
   "execution_count": 16,
   "metadata": {},
   "outputs": [],
   "source": [
    "from nltk import ne_chunk"
   ]
  },
  {
   "cell_type": "code",
   "execution_count": 17,
   "metadata": {},
   "outputs": [
    {
     "name": "stdout",
     "output_type": "stream",
     "text": [
      "['My', 'name', 'is', 'Sundar', 'Pichai', 'I', 'am', 'the', 'Google', 'CEO', '.', 'I', 'live', 'in', 'Seattle', '!']\n"
     ]
    }
   ],
   "source": [
    "text=\"My name is Sundar Pichai I am the Google CEO. I live in Seattle!\"\n",
    "print(word_tokenize(text))"
   ]
  },
  {
   "cell_type": "code",
   "execution_count": 18,
   "metadata": {},
   "outputs": [],
   "source": [
    "NE_tokens=word_tokenize(text)\n",
    "NE_tags=pos_tag(NE_tokens)\n",
    "NE_ner=ne_chunk(NE_tags)"
   ]
  },
  {
   "cell_type": "code",
   "execution_count": 19,
   "metadata": {},
   "outputs": [
    {
     "name": "stdout",
     "output_type": "stream",
     "text": [
      "[('My', 'PRP$'), ('name', 'NN'), ('is', 'VBZ'), ('Sundar', 'NNP'), ('Pichai', 'NNP'), ('I', 'PRP'), ('am', 'VBP'), ('the', 'DT'), ('Google', 'NNP'), ('CEO', 'NNP'), ('.', '.'), ('I', 'PRP'), ('live', 'VBP'), ('in', 'IN'), ('Seattle', 'NNP'), ('!', '.')]\n"
     ]
    }
   ],
   "source": [
    "print(NE_tags)"
   ]
  },
  {
   "cell_type": "code",
   "execution_count": 20,
   "metadata": {},
   "outputs": [
    {
     "name": "stdout",
     "output_type": "stream",
     "text": [
      "(S\n",
      "  My/PRP$\n",
      "  name/NN\n",
      "  is/VBZ\n",
      "  (PERSON Sundar/NNP Pichai/NNP)\n",
      "  I/PRP\n",
      "  am/VBP\n",
      "  the/DT\n",
      "  (ORGANIZATION Google/NNP)\n",
      "  CEO/NNP\n",
      "  ./.\n",
      "  I/PRP\n",
      "  live/VBP\n",
      "  in/IN\n",
      "  (GPE Seattle/NNP)\n",
      "  !/.)\n"
     ]
    }
   ],
   "source": [
    "print(NE_ner)"
   ]
  },
  {
   "cell_type": "code",
   "execution_count": null,
   "metadata": {},
   "outputs": [],
   "source": []
  }
 ],
 "metadata": {
  "kernelspec": {
   "display_name": "Python 3 (ipykernel)",
   "language": "python",
   "name": "python3"
  },
  "language_info": {
   "codemirror_mode": {
    "name": "ipython",
    "version": 3
   },
   "file_extension": ".py",
   "mimetype": "text/x-python",
   "name": "python",
   "nbconvert_exporter": "python",
   "pygments_lexer": "ipython3",
   "version": "3.9.7"
  }
 },
 "nbformat": 4,
 "nbformat_minor": 4
}
