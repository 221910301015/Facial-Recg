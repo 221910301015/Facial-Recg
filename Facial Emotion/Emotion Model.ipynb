{
 "cells": [
  {
   "cell_type": "code",
   "execution_count": 1,
   "id": "b9ab2256",
   "metadata": {},
   "outputs": [],
   "source": [
    "import numpy as np\n",
    "import pandas as pd\n",
    "import matplotlib.pyplot as plt\n",
    "\n",
    "from keras.layers import Flatten, Dense\n",
    "from keras.models import Model\n",
    "from keras.preprocessing.image import ImageDataGenerator , img_to_array, load_img\n",
    "from keras.applications.mobilenet import MobileNet, preprocess_input \n",
    "from keras.losses import categorical_crossentropy"
   ]
  },
  {
   "cell_type": "code",
   "execution_count": 2,
   "id": "da690b5e",
   "metadata": {},
   "outputs": [
    {
     "data": {
      "text/plain": [
       "<keras.engine.functional.Functional at 0x1cfcdcd2700>"
      ]
     },
     "execution_count": 2,
     "metadata": {},
     "output_type": "execute_result"
    }
   ],
   "source": [
    "# Working with pre trained model \n",
    "\n",
    "base_model = MobileNet( input_shape=(224,224,3), include_top= False )\n",
    "\n",
    "for layer in base_model.layers:\n",
    "     layer.trainable = False\n",
    "\n",
    "\n",
    "x = Flatten()(base_model.output)\n",
    "x = Dense(units=7 , activation='softmax')(x)\n",
    "\n",
    "# creating our model.\n",
    "model = Model(base_model.input, x)\n",
    "model"
   ]
  },
  {
   "cell_type": "code",
   "execution_count": 3,
   "id": "fa1ecaac",
   "metadata": {},
   "outputs": [],
   "source": [
    "model.compile(optimizer='adam', loss= categorical_crossentropy , metrics=['accuracy']  )\n"
   ]
  },
  {
   "cell_type": "code",
   "execution_count": 4,
   "id": "4c90ccd2",
   "metadata": {},
   "outputs": [
    {
     "name": "stdout",
     "output_type": "stream",
     "text": [
      "Found 28709 images belonging to 7 classes.\n"
     ]
    },
    {
     "data": {
      "text/plain": [
       "{'angry': 0,\n",
       " 'disgust': 1,\n",
       " 'fear': 2,\n",
       " 'happy': 3,\n",
       " 'neutral': 4,\n",
       " 'sad': 5,\n",
       " 'surprise': 6}"
      ]
     },
     "execution_count": 4,
     "metadata": {},
     "output_type": "execute_result"
    }
   ],
   "source": [
    "train_datagen = ImageDataGenerator(rescale = 1./255)\n",
    "\n",
    "train_data = train_datagen.flow_from_directory(directory= 'C://Users//Admin//Desktop//data//train', \n",
    "                                               target_size=(224,224), \n",
    "                                               batch_size=32,)\n",
    "train_data.class_indices"
   ]
  },
  {
   "cell_type": "code",
   "execution_count": 5,
   "id": "0865a064",
   "metadata": {},
   "outputs": [
    {
     "name": "stdout",
     "output_type": "stream",
     "text": [
      "Found 7178 images belonging to 7 classes.\n"
     ]
    }
   ],
   "source": [
    "val_datagen = ImageDataGenerator(rescale = 1./255 )\n",
    "\n",
    "val_data = val_datagen.flow_from_directory(directory= \"C://Users//Admin//Desktop//data//test\", \n",
    "                                           target_size=(224,224), \n",
    "                                           batch_size=32,)"
   ]
  },
  {
   "cell_type": "code",
   "execution_count": 6,
   "id": "444e76d0",
   "metadata": {},
   "outputs": [],
   "source": [
    "model.compile(optimizer='adam', loss= categorical_crossentropy , metrics=['accuracy']  )\n"
   ]
  },
  {
   "cell_type": "code",
   "execution_count": 7,
   "id": "57d4a9d3",
   "metadata": {
    "scrolled": true
   },
   "outputs": [
    {
     "name": "stdout",
     "output_type": "stream",
     "text": [
      "Epoch 1/30\n"
     ]
    },
    {
     "name": "stderr",
     "output_type": "stream",
     "text": [
      "C:\\Users\\Admin\\AppData\\Local\\Temp/ipykernel_20800/2448346667.py:1: UserWarning: `Model.fit_generator` is deprecated and will be removed in a future version. Please use `Model.fit`, which supports generators.\n",
      "  hist = model.fit_generator(train_data,\n"
     ]
    },
    {
     "name": "stdout",
     "output_type": "stream",
     "text": [
      "10/10 [==============================] - 13s 1s/step - loss: 22.6047 - accuracy: 0.2062 - val_loss: 15.8050 - val_accuracy: 0.1914\n",
      "Epoch 2/30\n",
      "10/10 [==============================] - 11s 1s/step - loss: 12.9606 - accuracy: 0.2812 - val_loss: 12.1652 - val_accuracy: 0.2695\n",
      "Epoch 3/30\n",
      "10/10 [==============================] - 11s 1s/step - loss: 9.3529 - accuracy: 0.3562 - val_loss: 9.7856 - val_accuracy: 0.3633\n",
      "Epoch 4/30\n",
      "10/10 [==============================] - 12s 1s/step - loss: 7.5257 - accuracy: 0.3719 - val_loss: 5.7886 - val_accuracy: 0.4336\n",
      "Epoch 5/30\n",
      "10/10 [==============================] - 13s 1s/step - loss: 6.6259 - accuracy: 0.4500 - val_loss: 4.8837 - val_accuracy: 0.4023\n",
      "Epoch 6/30\n",
      "10/10 [==============================] - 13s 1s/step - loss: 4.5948 - accuracy: 0.4219 - val_loss: 3.8029 - val_accuracy: 0.4492\n",
      "Epoch 7/30\n",
      "10/10 [==============================] - 12s 1s/step - loss: 5.0917 - accuracy: 0.4281 - val_loss: 4.8193 - val_accuracy: 0.4805\n",
      "Epoch 8/30\n",
      "10/10 [==============================] - 13s 1s/step - loss: 4.4623 - accuracy: 0.4437 - val_loss: 5.2504 - val_accuracy: 0.5078\n",
      "Epoch 9/30\n",
      "10/10 [==============================] - 12s 1s/step - loss: 6.0541 - accuracy: 0.4031 - val_loss: 4.0070 - val_accuracy: 0.4922\n",
      "Epoch 10/30\n",
      "10/10 [==============================] - 12s 1s/step - loss: 4.6914 - accuracy: 0.4656 - val_loss: 5.8677 - val_accuracy: 0.4141\n",
      "Epoch 11/30\n",
      "10/10 [==============================] - 12s 1s/step - loss: 5.1006 - accuracy: 0.4531 - val_loss: 5.9552 - val_accuracy: 0.3828\n",
      "Epoch 12/30\n",
      "10/10 [==============================] - 13s 1s/step - loss: 4.4558 - accuracy: 0.4594 - val_loss: 5.9607 - val_accuracy: 0.4141\n",
      "Epoch 13/30\n",
      "10/10 [==============================] - 12s 1s/step - loss: 4.9913 - accuracy: 0.4219 - val_loss: 4.4322 - val_accuracy: 0.4648\n",
      "Epoch 14/30\n",
      "10/10 [==============================] - 12s 1s/step - loss: 5.5095 - accuracy: 0.4688 - val_loss: 4.9046 - val_accuracy: 0.4766\n",
      "Epoch 15/30\n",
      "10/10 [==============================] - 12s 1s/step - loss: 4.7163 - accuracy: 0.4969 - val_loss: 5.5949 - val_accuracy: 0.4180\n",
      "Epoch 16/30\n",
      "10/10 [==============================] - 12s 1s/step - loss: 4.6094 - accuracy: 0.4906 - val_loss: 4.5326 - val_accuracy: 0.4922\n",
      "Epoch 17/30\n",
      "10/10 [==============================] - 12s 1s/step - loss: 4.4320 - accuracy: 0.5406 - val_loss: 5.0925 - val_accuracy: 0.4727\n",
      "Epoch 18/30\n",
      "10/10 [==============================] - 12s 1s/step - loss: 5.0926 - accuracy: 0.4676 - val_loss: 5.4181 - val_accuracy: 0.4766\n",
      "Epoch 19/30\n",
      "10/10 [==============================] - 13s 1s/step - loss: 5.4207 - accuracy: 0.4812 - val_loss: 4.3723 - val_accuracy: 0.4844\n",
      "Epoch 20/30\n",
      "10/10 [==============================] - 13s 1s/step - loss: 5.1029 - accuracy: 0.4812 - val_loss: 6.6634 - val_accuracy: 0.4531\n",
      "Epoch 21/30\n",
      "10/10 [==============================] - 13s 1s/step - loss: 5.3827 - accuracy: 0.4781 - val_loss: 6.6977 - val_accuracy: 0.4609\n",
      "Epoch 22/30\n",
      "10/10 [==============================] - 13s 1s/step - loss: 4.4523 - accuracy: 0.5437 - val_loss: 5.8021 - val_accuracy: 0.4609\n",
      "Epoch 23/30\n",
      "10/10 [==============================] - 13s 1s/step - loss: 5.6188 - accuracy: 0.5125 - val_loss: 7.8625 - val_accuracy: 0.3945\n",
      "Epoch 24/30\n",
      "10/10 [==============================] - 13s 1s/step - loss: 6.0841 - accuracy: 0.5156 - val_loss: 6.7067 - val_accuracy: 0.4688\n",
      "Epoch 25/30\n",
      "10/10 [==============================] - 13s 1s/step - loss: 5.3285 - accuracy: 0.5188 - val_loss: 6.5332 - val_accuracy: 0.4297\n",
      "Epoch 26/30\n",
      "10/10 [==============================] - 13s 1s/step - loss: 5.0346 - accuracy: 0.5406 - val_loss: 6.5126 - val_accuracy: 0.4219\n",
      "Epoch 27/30\n",
      "10/10 [==============================] - 13s 1s/step - loss: 5.6231 - accuracy: 0.5063 - val_loss: 6.5108 - val_accuracy: 0.4492\n",
      "Epoch 28/30\n",
      "10/10 [==============================] - 13s 1s/step - loss: 4.5445 - accuracy: 0.5188 - val_loss: 6.0113 - val_accuracy: 0.5078\n",
      "Epoch 29/30\n",
      "10/10 [==============================] - 13s 1s/step - loss: 4.7213 - accuracy: 0.5656 - val_loss: 6.9285 - val_accuracy: 0.4805\n",
      "Epoch 30/30\n",
      "10/10 [==============================] - 13s 1s/step - loss: 6.2329 - accuracy: 0.5000 - val_loss: 6.2931 - val_accuracy: 0.4883\n"
     ]
    }
   ],
   "source": [
    "hist = model.fit_generator(train_data, \n",
    "                           steps_per_epoch= 10, \n",
    "                           epochs= 30, \n",
    "                           validation_data= val_data, \n",
    "                           validation_steps= 8, \n",
    "                           )"
   ]
  },
  {
   "cell_type": "code",
   "execution_count": 8,
   "id": "6e607b3f",
   "metadata": {},
   "outputs": [],
   "source": [
    "model_json =model.to_json()\n",
    "with open(\"emotion_model.json\", \"w\") as json_file:\n",
    "    json_file.write(model_json)"
   ]
  },
  {
   "cell_type": "code",
   "execution_count": 9,
   "id": "2360ac03",
   "metadata": {},
   "outputs": [],
   "source": [
    "model.save_weights('emotion_model.h5')"
   ]
  }
 ],
 "metadata": {
  "kernelspec": {
   "display_name": "Python 3 (ipykernel)",
   "language": "python",
   "name": "python3"
  },
  "language_info": {
   "codemirror_mode": {
    "name": "ipython",
    "version": 3
   },
   "file_extension": ".py",
   "mimetype": "text/x-python",
   "name": "python",
   "nbconvert_exporter": "python",
   "pygments_lexer": "ipython3",
   "version": "3.9.7"
  }
 },
 "nbformat": 4,
 "nbformat_minor": 5
}
